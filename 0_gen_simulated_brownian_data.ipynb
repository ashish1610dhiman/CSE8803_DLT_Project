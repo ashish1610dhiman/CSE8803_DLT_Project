{
  "nbformat": 4,
  "nbformat_minor": 0,
  "metadata": {
    "colab": {
      "provenance": [],
      "authorship_tag": "ABX9TyOQgGK4JRFlEUJljfxYjFSD",
      "include_colab_link": true
    },
    "kernelspec": {
      "name": "python3",
      "display_name": "Python 3"
    },
    "language_info": {
      "name": "python"
    }
  },
  "cells": [
    {
      "cell_type": "markdown",
      "metadata": {
        "id": "view-in-github",
        "colab_type": "text"
      },
      "source": [
        "<a href=\"https://colab.research.google.com/github/ashish1610dhiman/CSE8803_DLT_Project/blob/main/0_gen_simulated_brownian_data.ipynb\" target=\"_parent\"><img src=\"https://colab.research.google.com/assets/colab-badge.svg\" alt=\"Open In Colab\"/></a>"
      ]
    },
    {
      "cell_type": "code",
      "execution_count": null,
      "metadata": {
        "id": "K7z1fQTQUYKh"
      },
      "outputs": [],
      "source": [
        "import torch\n",
        "import matplotlib.pyplot as plt\n",
        "import numpy as np\n",
        "from itertools import product\n",
        "from scipy.stats import norm\n",
        "import pickle\n",
        "import yaml\n",
        "from google.colab import drive\n",
        "import os\n",
        "from matplotlib.animation import FuncAnimation, PillowWriter\n"
      ]
    },
    {
      "cell_type": "code",
      "source": [
        "#exp params\n",
        "VERSION = \"v0\" #meta for saving\n",
        "drive.mount('/content/drive')\n",
        "EXP_PATH = '/content/drive/My Drive/call_prices_conditional_flow/'"
      ],
      "metadata": {
        "id": "QzWJaBmg8S40"
      },
      "execution_count": null,
      "outputs": []
    },
    {
      "cell_type": "code",
      "source": [
        "SEED = 77 #random-seed\n",
        "np.random.seed(SEED)\n",
        "torch.manual_seed(SEED)"
      ],
      "metadata": {
        "id": "1Az7EvqqaZ1V"
      },
      "execution_count": null,
      "outputs": []
    },
    {
      "cell_type": "code",
      "source": [
        "# Parameters for GBM paths\n",
        "S0 = 25.0       # initial price\n",
        "T = 1.15          # total time (in years)\n",
        "dt = 1/252      # step size (in year)\n",
        "n_steps = int(T/dt)\n",
        "\n",
        "#GBM params\n",
        "mu_low,mu_high = 0.05,0.15 #drift of gbm\n",
        "sigma_low,sigma_high = 0.1,0.2 #volatility of GBM\n",
        "n_mu,n_sigma = 10,10\n",
        "N_PATHS = n_mu * n_sigma     # how many paths to simulate\n",
        "\n",
        "# Parameters for BS Call prices\n",
        "K_GRID_SIZE = 25 #grid-size of strike prices\n",
        "M = 10 #number of time-to-maturities for call price\n",
        "BURNIN_WINDOW = 50 #burn-in period, call prices beyond this,\n",
        "RISK_FREE_RATE = 0.02\n",
        "L = n_steps-BURNIN_WINDOW # time-steps of gbm path where we will make predictions\n",
        "M_steps = np.arange(1, M+1)"
      ],
      "metadata": {
        "id": "hmpO-tl3ZlXu"
      },
      "execution_count": null,
      "outputs": []
    },
    {
      "cell_type": "code",
      "source": [
        "params = {\n",
        "    \"gbm\": {\n",
        "        \"S0\": S0,\n",
        "        \"T\": T,\n",
        "        \"dt\": dt,\n",
        "        \"N_PATHS\": N_PATHS,\n",
        "        \"n_steps\": n_steps,\n",
        "        \"mu_low\": mu_low,\n",
        "        \"mu_high\": mu_high,\n",
        "        \"sigma_low\": sigma_low,\n",
        "        \"sigma_high\": sigma_high,\n",
        "        \"n_mu\": n_mu,\n",
        "        \"n_sigma\": n_sigma\n",
        "    },\n",
        "    \"bs_call\": {\n",
        "        \"K_GRID_SIZE\": K_GRID_SIZE,\n",
        "        \"M\": M,\n",
        "        \"BURNIN_WINDOW\": BURNIN_WINDOW,\n",
        "        \"RISK_FREE_RATE\": RISK_FREE_RATE,\n",
        "        \"L\": L,\n",
        "        \"M_steps\": M_steps\n",
        "    }\n",
        "}\n",
        "\n",
        "# Save to YAML\n",
        "with open(f\"{EXP_PATH}/dataset_params_{VERSION}.yaml\", \"w\") as f:\n",
        "    yaml.dump(params, f, default_flow_style=False)"
      ],
      "metadata": {
        "id": "hSPgcVLuRmq0"
      },
      "execution_count": null,
      "outputs": []
    },
    {
      "cell_type": "markdown",
      "source": [
        "# Step 1: Get simulated stock price by GBM\n",
        "\n",
        "**Geometric Brownian Motion**\n",
        "\n",
        "- **SDE:**  \n",
        "$$dS_t = \\mu\\,S_t\\,dt + \\sigma\\,S_t\\,dW_t$$\n",
        "\n",
        "- **Euler–Maruyama discretization:**\n",
        "\n",
        "$$\n",
        "S_{t+\\Delta t}\n",
        "= S_t \\exp\\!\\Bigl((\\mu - \\tfrac12\\sigma^2)\\,\\Delta t\n",
        "+ \\sigma\\,\\sqrt{\\Delta t}\\,Z_{t+1}\\Bigr),\n",
        "\\quad Z_{t+1}\\sim{N}(0,1).\n",
        "$$\n"
      ],
      "metadata": {
        "id": "wYhwcvxJUlao"
      }
    },
    {
      "cell_type": "code",
      "source": [
        "def simulate_gbm_paths(S0, mu, sigma, dt, n_steps, n_paths, seed=None):\n",
        "    \"\"\"\n",
        "    Generate n_paths of Geometric Brownian Motion.\n",
        "    Args:\n",
        "        S0 (float): Initial price. | mu (float): Drift. |sigma (float): Volatility.\n",
        "        dt (float): Time‐step size | n_steps (int): Number of steps | n_paths (int): Number of paths.\n",
        "        seed (int, optional): random seed.\n",
        "    Returns:\n",
        "        np.ndarray[n_steps, n_paths]: Simulated price paths.\n",
        "    \"\"\"\n",
        "    paths = np.zeros((n_steps, n_paths))\n",
        "    paths[0] = S0\n",
        "    for t in range(1, n_steps):\n",
        "        z = np.random.randn(n_paths)\n",
        "        paths[t] = paths[t-1] * np.exp((mu - 0.5*sigma**2)*dt + sigma*np.sqrt(dt)*z)\n",
        "    return paths\n"
      ],
      "metadata": {
        "id": "agNzE4A7UifG"
      },
      "execution_count": null,
      "outputs": []
    },
    {
      "cell_type": "code",
      "source": [
        "# Simulate for examplemu/sigma\n",
        "mu = 0.1        # drift\n",
        "sigma = 0.2      # volatility\n",
        "\n",
        "gbm_paths = simulate_gbm_paths(S0, mu, sigma, dt, n_steps, N_PATHS) #np.ndarray[n_steps, n_paths]\n",
        "gbm_paths.shape"
      ],
      "metadata": {
        "id": "PU0vFJzJUjCg"
      },
      "execution_count": null,
      "outputs": []
    },
    {
      "cell_type": "code",
      "source": [
        "np.random.choice(len(gbm_paths),size=5,replace=False)"
      ],
      "metadata": {
        "id": "jVdJSqJdW8jk"
      },
      "execution_count": null,
      "outputs": []
    },
    {
      "cell_type": "code",
      "source": [
        "n_path_plot = 5 #random paths to plot\n",
        "time = np.linspace(0, T, n_steps)\n",
        "plt.figure(figsize=(8, 4))\n",
        "for i in (np.random.choice(gbm_paths.shape[1],size=n_path_plot,replace=False)):\n",
        "    plt.plot(time, gbm_paths[:, i], label=f\"Path {i+1}\")\n",
        "plt.xlabel(\"Time (years)\")\n",
        "plt.ylabel(\"Price\")\n",
        "plt.title(\"Simulated GBM Stock Price Paths\")\n",
        "plt.legend()\n",
        "plt.grid(True)\n",
        "plt.tight_layout()\n",
        "plt.show()"
      ],
      "metadata": {
        "id": "6Xp0Is2dW38S"
      },
      "execution_count": null,
      "outputs": []
    },
    {
      "cell_type": "markdown",
      "source": [
        "## generate path across a grid of mu,sigma\n",
        "\n",
        "$$\n",
        "{(\\mu,\\sigma) | \\mu \\in [\\mu_L,\\mu_H], [\\sigma_L,\\sigma_H]}\n",
        "$$"
      ],
      "metadata": {
        "id": "h3vAsCAnXuRB"
      }
    },
    {
      "cell_type": "code",
      "source": [
        "mu_vals    = np.round(np.linspace(mu_low, mu_high, n_mu), 2)\n",
        "sigma_vals = np.round(np.linspace(sigma_low, sigma_high, n_sigma), 2)\n",
        "print(sigma_vals)\n",
        "mu_mesh, sigma_mesh  = np.meshgrid(mu_vals, sigma_vals)\n",
        "\n",
        "cross_grid      = np.column_stack([mu_mesh.ravel(), sigma_mesh.ravel()])\n",
        "cross_grid.shape"
      ],
      "metadata": {
        "id": "D2EuIU4xWFgV"
      },
      "execution_count": null,
      "outputs": []
    },
    {
      "cell_type": "code",
      "source": [
        "gbm_paths_grid = dict()\n",
        "for mu_i,sigma_i in cross_grid:\n",
        "    gbm_paths_grid[(mu_i,sigma_i)] = simulate_gbm_paths(S0, mu_i, sigma_i, dt, n_steps, N_PATHS)"
      ],
      "metadata": {
        "id": "oMVCxjbrUjF8"
      },
      "execution_count": null,
      "outputs": []
    },
    {
      "cell_type": "code",
      "source": [
        "len(gbm_paths_grid)"
      ],
      "metadata": {
        "id": "vuq-Obo6boV3"
      },
      "execution_count": null,
      "outputs": []
    },
    {
      "cell_type": "code",
      "source": [
        "gbm_paths_grid[(0.07,0.1)].shape #n_steps,n_paths"
      ],
      "metadata": {
        "id": "4CQgzdFPbwvn"
      },
      "execution_count": null,
      "outputs": []
    },
    {
      "cell_type": "code",
      "source": [
        "rolling_window = 70\n",
        "sigma_true = 0.16\n",
        "gbm_paths = gbm_paths_grid[(0.15,sigma_true)]\n",
        "returns_gbm_paths = np.log(gbm_paths[1:] / gbm_paths[:-1])\n",
        "\n",
        "rolling_sd_est = np.array([returns_gbm_paths[:i].std(axis=0,ddof=1).mean() for i in range(rolling_window,n_steps)])\n",
        "rolling_sd_est = rolling_sd_est * np.sqrt(1.0 / dt)\n",
        "plt.plot(rolling_sd_est,label=\"rolling sigma estimate\")\n",
        "plt.axhline(sigma_true,color='r',label=\"true sigma\")\n",
        "plt.legend()\n",
        "plt.show()"
      ],
      "metadata": {
        "id": "_BcmAgfKjSzy"
      },
      "execution_count": null,
      "outputs": []
    },
    {
      "cell_type": "markdown",
      "source": [
        "# Step 2: Get BS-call prices for the above simulated path\n",
        "- for each path i, we will get call price for multiple strike prices and tau (K,tau) at each point (t) in the path after some intial burnin-period(B); L=n_steps-B"
      ],
      "metadata": {
        "id": "rlUw1mEIyRFG"
      }
    },
    {
      "cell_type": "code",
      "source": [
        "def bs_call_price(S, K, tau, r, sigma):\n",
        "    \"\"\"\n",
        "    Vectorized Black–Scholes call price for arrays S (spots) and K (strikes) at time to maturities tau.\n",
        "    S: array shape (...,) -- gbm-path\n",
        "    K: array shape (M,) -- array of strike prices\n",
        "    tau: scalar -- time to maturity\n",
        "    returns: array shape (..., M)\n",
        "    \"\"\"\n",
        "    S = np.atleast_1d(S)[..., None]  # shape (..., 1)\n",
        "    K = np.atleast_1d(K)[None, ...]  # shape (1, M)\n",
        "    sqrt_tau = np.sqrt(tau)\n",
        "    d1 = (np.log(S / K) + (r + 0.5 * sigma**2) * tau) / (sigma * sqrt_tau)\n",
        "    d2 = d1 - sigma * sqrt_tau\n",
        "    return S * norm.cdf(d1) - K * np.exp(-r * tau) * norm.cdf(d2)"
      ],
      "metadata": {
        "id": "fYXQaUMwUjJR"
      },
      "execution_count": null,
      "outputs": []
    },
    {
      "cell_type": "code",
      "source": [
        "M_steps"
      ],
      "metadata": {
        "id": "ruBGCslS28Kz"
      },
      "execution_count": null,
      "outputs": []
    },
    {
      "cell_type": "code",
      "source": [
        "call_prices_grid=dict()\n",
        "for (mu_i,sigma_i),gbm_paths in gbm_paths_grid.items():\n",
        "  #get min/max srtike\n",
        "  K_min,K_max = np.floor(gbm_paths.min()),np.ceil(gbm_paths.max())\n",
        "  K = np.linspace(K_min, K_max, K_GRID_SIZE)\n",
        "  #gbm-path after burn-in\n",
        "  gbm_paths_burnin = gbm_paths[BURNIN_WINDOW:]\n",
        "  #init a nan array\n",
        "  call_prices_i = np.full((L, N_PATHS, K_GRID_SIZE, M), np.nan)\n",
        "  for t in range(L):\n",
        "    sigma_estimate_t = gbm_paths[:i-1].std(axis=0,ddof=1).mean()\n",
        "    max_m = min(M, L - 1 - t)\n",
        "    for idx_m in range(max_m):\n",
        "        tau = M_steps[idx_m] * dt\n",
        "        call_prices_i[t, :, :, idx_m] = bs_call_price(gbm_paths_burnin[i], K, tau, RISK_FREE_RATE, sigma_estimate_t)\n",
        "        call_prices_grid[(mu_i,sigma_i)] = call_prices_i"
      ],
      "metadata": {
        "id": "Vg-QQiLOUjMp"
      },
      "execution_count": null,
      "outputs": []
    },
    {
      "cell_type": "markdown",
      "source": [
        "# Step 3: Combine the dict and save to google-drive"
      ],
      "metadata": {
        "id": "dyVYMtR548Cr"
      }
    },
    {
      "cell_type": "code",
      "source": [
        "len(cross_grid),len(gbm_paths_grid),len(call_prices_grid)"
      ],
      "metadata": {
        "id": "FYGdnP8jUjTi"
      },
      "execution_count": null,
      "outputs": []
    },
    {
      "cell_type": "code",
      "source": [
        "combined_data_dict= {\n",
        "    k:{\"gbm_paths\":gbm_paths_grid[k],\"call_prices\":call_prices_grid[k]}\n",
        "    for k in gbm_paths_grid.keys()\n",
        "}\n",
        "\n",
        "# os.makedirs(f\"{EXP_PATH}/dataset_{VERSION}.pkl\", exist_ok=True)\n",
        "with open(f\"{EXP_PATH}/dataset_{VERSION}.pkl\", 'wb') as f:\n",
        "    pickle.dump(combined_data_dict, f)"
      ],
      "metadata": {
        "id": "SqewWVrb67pd"
      },
      "execution_count": null,
      "outputs": []
    },
    {
      "cell_type": "code",
      "source": [
        "cross_grid[0]"
      ],
      "metadata": {
        "id": "Hj-fSWBYUjW9"
      },
      "execution_count": null,
      "outputs": []
    },
    {
      "cell_type": "code",
      "source": [
        "gbm_paths_grid[tuple(cross_grid[0])].shape"
      ],
      "metadata": {
        "id": "npRoRPoSUjan"
      },
      "execution_count": null,
      "outputs": []
    },
    {
      "cell_type": "code",
      "source": [
        "call_prices_grid[tuple(cross_grid[0])].shape"
      ],
      "metadata": {
        "id": "gQUA58aaUjd_"
      },
      "execution_count": null,
      "outputs": []
    },
    {
      "cell_type": "code",
      "source": [
        "#total data points = 177*50*10*10*100\n",
        "(177*50*10*10*100)/1e6"
      ],
      "metadata": {
        "id": "ydusWOx_Ujg5"
      },
      "execution_count": null,
      "outputs": []
    },
    {
      "cell_type": "markdown",
      "source": [
        "# Step 4: Plotting and experimenting"
      ],
      "metadata": {
        "id": "LXKbrXg-9pBm"
      }
    },
    {
      "cell_type": "code",
      "source": [
        "idx=7\n",
        "print(cross_grid[idx])\n",
        "gbm_paths_grid[tuple(cross_grid[idx])].shape\n",
        "call_prices = call_prices_grid[tuple(cross_grid[idx])]"
      ],
      "metadata": {
        "id": "fvZxVVY-9y9O"
      },
      "execution_count": null,
      "outputs": []
    },
    {
      "cell_type": "code",
      "source": [
        "# Plot example: for path 0, strike index 4, show call price surface over (t, tau)\n",
        "t_vals = np.arange(L)\n",
        "tau_vals = M_steps * dt\n",
        "strike_idx = 3\n",
        "path_idx = 0\n",
        "\n",
        "# Prepare data for plotting\n",
        "surface = call_prices[:, path_idx, strike_idx, :]  # shape (L, M)\n",
        "\n",
        "fig, axs = plt.subplots(1, 2, figsize=(14, 4.3))\n",
        "\n",
        "# Left panel: stock price path\n",
        "axs[0].plot(np.arange(L), gbm_paths[BURNIN_WINDOW:, path_idx], label=f'Path {path_idx}')\n",
        "axs[0].set_xlabel('Time Step')\n",
        "axs[0].set_ylabel('Price')\n",
        "axs[0].set_title(f'Stock Path {path_idx}')\n",
        "axs[0].grid(True)\n",
        "axs[0].legend()\n",
        "\n",
        "# Right panel: heatmap of call price surface\n",
        "im = axs[1].imshow(\n",
        "    surface.T,\n",
        "    origin='lower',\n",
        "    aspect='auto',\n",
        "    extent=[0, L-1, tau_vals[0], tau_vals[-1]]\n",
        ")\n",
        "cbar = fig.colorbar(im, ax=axs[1], label='Call Price')\n",
        "axs[1].set_xlabel('Time Step t')\n",
        "axs[1].set_ylabel('Time to Maturity τ')\n",
        "axs[1].set_title(f'Call Prices for Path {path_idx}, Strike K={K[strike_idx]:.1f}')\n",
        "\n",
        "plt.tight_layout()\n",
        "plt.show()"
      ],
      "metadata": {
        "id": "kfZJmuQk6i2j"
      },
      "execution_count": null,
      "outputs": []
    },
    {
      "cell_type": "code",
      "source": [
        "call_prices.shape"
      ],
      "metadata": {
        "id": "RQDtBE-aH9MX"
      },
      "execution_count": null,
      "outputs": []
    },
    {
      "cell_type": "code",
      "source": [
        "np.isnan(call_prices[0,:,:,:]).sum()"
      ],
      "metadata": {
        "id": "7ZlUZs1TH6eg"
      },
      "execution_count": null,
      "outputs": []
    },
    {
      "cell_type": "code",
      "source": [
        "np.isnan(call_prices[:,0,:,:]).sum()"
      ],
      "metadata": {
        "id": "v1xTQw_iIr3e"
      },
      "execution_count": null,
      "outputs": []
    },
    {
      "cell_type": "code",
      "source": [
        "np.isnan(call_prices[:,0,0,:]).sum()"
      ],
      "metadata": {
        "id": "invDQWpCIvLM"
      },
      "execution_count": null,
      "outputs": []
    },
    {
      "cell_type": "code",
      "source": [
        "np.isnan(call_prices[:,0,0,1]).sum()"
      ],
      "metadata": {
        "id": "D4CfqjlrI6NT"
      },
      "execution_count": null,
      "outputs": []
    },
    {
      "cell_type": "code",
      "source": [
        "call_prices[:,0,0,]"
      ],
      "metadata": {
        "id": "nbBcb3VpJIaT"
      },
      "execution_count": null,
      "outputs": []
    },
    {
      "cell_type": "code",
      "source": [
        "from mpl_toolkits.mplot3d import Axes3D  # needed for projection='3d'\n",
        "\n",
        "\n",
        "# Create X, Y coordinates to match Z’s indices\n",
        "#   X varies along the columns (axis=1), Y along the rows (axis=0)\n",
        "Z = call_prices[52, 4]\n",
        "x = np.arange(Z.shape[1])\n",
        "y = np.arange(Z.shape[0])\n",
        "X, Y = np.meshgrid(x, y)\n",
        "\n",
        "# Plot\n",
        "fig = plt.figure(figsize=(8,6))\n",
        "ax  = fig.add_subplot(111, projection='3d')\n",
        "surf = ax.plot_surface(X, Y, Z, cmap='viridis', edgecolor='none')\n",
        "ax.view_init(elev=30, azim=45)\n",
        "ax.set_xlabel('Column index')\n",
        "ax.set_ylabel('Row index')\n",
        "ax.set_zlabel('Call price')\n",
        "ax.set_title('Surface of call_prices[52,4]')\n",
        "\n",
        "fig.colorbar(surf, shrink=0.5, aspect=10, label='Price')\n",
        "plt.show()\n"
      ],
      "metadata": {
        "id": "9t8EvltTHT4a"
      },
      "execution_count": null,
      "outputs": []
    },
    {
      "cell_type": "code",
      "source": [
        "path_idx=0\n",
        "surface_data = call_prices[:, path_idx, :, :]  # (time, strikes, maturities)\n",
        "\n",
        "# --- 4. Create animation with x-axis=Strike, y-axis=Maturity ---\n",
        "fig, ax = plt.subplots(figsize=(6, 5))\n",
        "extent = [K.min(), K.max(), tau_vals.min(), tau_vals.max()]\n",
        "im = ax.imshow(\n",
        "    surface_data[0].T,\n",
        "    origin='lower',\n",
        "    aspect='auto',\n",
        "    extent=extent,\n",
        "    vmin=np.nanmin(surface_data),\n",
        "    vmax=np.nanmax(surface_data)\n",
        ")\n",
        "ax.set_xlabel('Strike K')\n",
        "ax.set_ylabel('Time to Maturity τ')\n",
        "title = ax.set_title('Call Price Surface at t=0')\n",
        "cbar = fig.colorbar(im, ax=ax, label='Call Price')\n",
        "\n",
        "def update(frame):\n",
        "    im.set_data(surface_data[frame].T)\n",
        "    title.set_text(f'Call Price Surface at t={frame}')\n",
        "    return im, title\n",
        "\n",
        "anim = FuncAnimation(fig, update, frames=L, blit=True)\n",
        "gif_path = f'./call_price_evolution_{path_idx}.gif'\n",
        "anim.save(gif_path, writer=PillowWriter(fps=25))\n",
        "plt.close(fig)"
      ],
      "metadata": {
        "id": "uDJGX7mh6jZ3"
      },
      "execution_count": null,
      "outputs": []
    },
    {
      "cell_type": "code",
      "source": [],
      "metadata": {
        "id": "qCDJRyRd6jdR"
      },
      "execution_count": null,
      "outputs": []
    },
    {
      "cell_type": "code",
      "source": [],
      "metadata": {
        "id": "MN0qMtKG6jg3"
      },
      "execution_count": null,
      "outputs": []
    },
    {
      "cell_type": "code",
      "source": [],
      "metadata": {
        "id": "u0vOKzQT6jkz"
      },
      "execution_count": null,
      "outputs": []
    },
    {
      "cell_type": "code",
      "source": [],
      "metadata": {
        "id": "dx43Sby96joi"
      },
      "execution_count": null,
      "outputs": []
    },
    {
      "cell_type": "code",
      "source": [],
      "metadata": {
        "id": "9QU2k_Kp6jsz"
      },
      "execution_count": null,
      "outputs": []
    },
    {
      "cell_type": "code",
      "source": [],
      "metadata": {
        "id": "HzcwbtQF6jwX"
      },
      "execution_count": null,
      "outputs": []
    },
    {
      "cell_type": "code",
      "source": [],
      "metadata": {
        "id": "-5xs_VTv6j0x"
      },
      "execution_count": null,
      "outputs": []
    },
    {
      "cell_type": "code",
      "source": [],
      "metadata": {
        "id": "3nPonV6q6j4S"
      },
      "execution_count": null,
      "outputs": []
    },
    {
      "cell_type": "code",
      "source": [],
      "metadata": {
        "id": "uhbgmS4j6j7t"
      },
      "execution_count": null,
      "outputs": []
    }
  ]
}