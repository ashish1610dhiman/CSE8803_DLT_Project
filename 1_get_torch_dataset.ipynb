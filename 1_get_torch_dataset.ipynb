{
  "nbformat": 4,
  "nbformat_minor": 0,
  "metadata": {
    "colab": {
      "provenance": [],
      "authorship_tag": "ABX9TyMn7CJJiJRLsh6wyV4KXjM1",
      "include_colab_link": true
    },
    "kernelspec": {
      "name": "python3",
      "display_name": "Python 3"
    },
    "language_info": {
      "name": "python"
    }
  },
  "cells": [
    {
      "cell_type": "markdown",
      "metadata": {
        "id": "view-in-github",
        "colab_type": "text"
      },
      "source": [
        "<a href=\"https://colab.research.google.com/github/ashish1610dhiman/CSE8803_DLT_Project/blob/main/1_get_torch_dataset.ipynb\" target=\"_parent\"><img src=\"https://colab.research.google.com/assets/colab-badge.svg\" alt=\"Open In Colab\"/></a>"
      ]
    },
    {
      "cell_type": "code",
      "execution_count": 27,
      "metadata": {
        "id": "UcGfyjoK71hk"
      },
      "outputs": [],
      "source": [
        "import torch\n",
        "import pickle\n",
        "import numpy as np\n",
        "from torch.utils.data import Subset\n",
        "from sklearn.model_selection import train_test_split\n",
        "from google.colab import drive\n",
        "import os\n",
        "import yaml"
      ]
    },
    {
      "cell_type": "code",
      "source": [
        "#exp params\n",
        "VERSION = \"v0\" #meta for saving\n",
        "drive.mount('/content/drive')\n",
        "EXP_PATH = '/content/drive/My Drive/call_prices_conditional_flow/'"
      ],
      "metadata": {
        "colab": {
          "base_uri": "https://localhost:8080/"
        },
        "id": "15MkULab8BnK",
        "outputId": "b3e10a2a-58f8-4b99-c678-1b7dada2e209"
      },
      "execution_count": 31,
      "outputs": [
        {
          "output_type": "stream",
          "name": "stdout",
          "text": [
            "Drive already mounted at /content/drive; to attempt to forcibly remount, call drive.mount(\"/content/drive\", force_remount=True).\n"
          ]
        }
      ]
    },
    {
      "cell_type": "markdown",
      "source": [
        "# 0. Load params/data-dict:(gbm+call)"
      ],
      "metadata": {
        "id": "WLdrjtxBGxVF"
      }
    },
    {
      "cell_type": "code",
      "source": [
        "with open(f\"{EXP_PATH}/dataset_params_{VERSION}.yaml\", \"r\") as f:\n",
        "    PARAMS = yaml.unsafe_load(f)"
      ],
      "metadata": {
        "id": "5E67u9bqGwMC"
      },
      "execution_count": 35,
      "outputs": []
    },
    {
      "cell_type": "code",
      "source": [
        "#train,val,test\n",
        "VAL_SIZE = 0.15\n",
        "TEST_SIZE = 0.15\n",
        "SEED = 42"
      ],
      "metadata": {
        "id": "R96GSFH-GWeZ"
      },
      "execution_count": 30,
      "outputs": []
    },
    {
      "cell_type": "code",
      "source": [
        "#read data dict from google colab\n",
        "with open(f\"{EXP_PATH}/dataset_{VERSION}.pkl\", 'rb') as f:\n",
        "    combined_data_dict = pickle.load(f)"
      ],
      "metadata": {
        "id": "QWl7xId68Cwz"
      },
      "execution_count": 32,
      "outputs": []
    },
    {
      "cell_type": "code",
      "source": [
        "len(combined_data_dict)"
      ],
      "metadata": {
        "colab": {
          "base_uri": "https://localhost:8080/"
        },
        "id": "g6xNgj76-tAv",
        "outputId": "646f4bbf-c3a0-4c03-f2a4-6c07923f694b"
      },
      "execution_count": 33,
      "outputs": [
        {
          "output_type": "execute_result",
          "data": {
            "text/plain": [
              "100"
            ]
          },
          "metadata": {},
          "execution_count": 33
        }
      ]
    },
    {
      "cell_type": "code",
      "source": [
        "combined_data_dict[(0.05,0.1)].keys()"
      ],
      "metadata": {
        "colab": {
          "base_uri": "https://localhost:8080/"
        },
        "id": "PAhjm6du_hNc",
        "outputId": "141b2b3b-ce16-4648-d99f-42bceed75594"
      },
      "execution_count": 34,
      "outputs": [
        {
          "output_type": "execute_result",
          "data": {
            "text/plain": [
              "dict_keys(['gbm_paths', 'call_prices'])"
            ]
          },
          "metadata": {},
          "execution_count": 34
        }
      ]
    },
    {
      "cell_type": "code",
      "source": [
        "combined_data_dict[(0.05,0.1)][\"call_prices\"][\"call_prices\"].shape"
      ],
      "metadata": {
        "colab": {
          "base_uri": "https://localhost:8080/"
        },
        "id": "-q7NecO5_n0u",
        "outputId": "f077e38e-84f7-4ba2-d2c0-c3548617c6ad"
      },
      "execution_count": 14,
      "outputs": [
        {
          "output_type": "execute_result",
          "data": {
            "text/plain": [
              "(239, 30, 25, 10)"
            ]
          },
          "metadata": {},
          "execution_count": 14
        }
      ]
    },
    {
      "cell_type": "code",
      "source": [
        "int(239*TEST_SIZE)"
      ],
      "metadata": {
        "colab": {
          "base_uri": "https://localhost:8080/"
        },
        "id": "Dk5JcuUCFV6l",
        "outputId": "363d9e52-70e6-45be-b516-1c16898a8bd7"
      },
      "execution_count": 37,
      "outputs": [
        {
          "output_type": "execute_result",
          "data": {
            "text/plain": [
              "35"
            ]
          },
          "metadata": {},
          "execution_count": 37
        }
      ]
    },
    {
      "cell_type": "markdown",
      "source": [
        "# 1. Create Torch Dataset"
      ],
      "metadata": {
        "id": "YIVFAqyV-wcb"
      }
    },
    {
      "cell_type": "code",
      "source": [
        "import torch\n",
        "from torch.utils.data import Dataset\n",
        "import numpy as np\n",
        "\n",
        "class OptionDataset(Dataset):\n",
        "    def __init__(self, combined_data_dict, spot_history, train_val_cut, burnin):\n",
        "        X_list, Y_list, T_list, test_flags, meta_list = [], [], [], [], []\n",
        "\n",
        "        for (mu, sigma), data in combined_data_dict.items():\n",
        "            paths = data[\"gbm_paths\"]  # shape (n_steps, n_paths)\n",
        "            call_prices = data[\"call_prices\"][\"call_prices\"]  # shape (L, n_paths, K_size, M)\n",
        "\n",
        "            n_steps, n_paths = paths.shape\n",
        "            L, _, K_size, M = call_prices.shape\n",
        "\n",
        "            for i in range(n_paths):  # loop over each path\n",
        "                for t in range(L - M):  # loop over call price times\n",
        "                    gbm_t = t + burnin\n",
        "                    if gbm_t - spot_history + 1 < 0 or gbm_t + M >= n_steps:\n",
        "                        continue  # skip if history or future goes out of bounds\n",
        "\n",
        "                    x_call = call_prices[t, i].reshape(-1)                         # (K_size * M,)\n",
        "                    x_spot_hist = paths[gbm_t - spot_history + 1 : gbm_t + 1, i].reshape(-1)  # (spot_history,)\n",
        "                    y = paths[gbm_t + 1 : gbm_t + 1 + M, i].reshape(-1)           # (M,)\n",
        "                    X = np.concatenate([x_call, x_spot_hist])\n",
        "\n",
        "                    is_test = (t + M) >= (L - train_val_cut)\n",
        "\n",
        "                    X_list.append(X)\n",
        "                    Y_list.append(y)\n",
        "                    T_list.append(t)\n",
        "                    test_flags.append(is_test)\n",
        "                    meta_list.append((mu, sigma))\n",
        "\n",
        "        self.X = torch.from_numpy(np.stack(X_list)).float()\n",
        "        self.Y = torch.from_numpy(np.stack(Y_list)).float()\n",
        "        self.T = torch.from_numpy(np.array(T_list)).long()\n",
        "        self.is_test = torch.tensor(test_flags)\n",
        "        self.meta = torch.tensor(meta_list).float()  # shape: (N_samples, 2)\n",
        "\n",
        "    def __len__(self):\n",
        "        return len(self.X)\n",
        "\n",
        "    def __getitem__(self, idx):\n",
        "        return {\n",
        "            \"X\": self.X[idx],\n",
        "            \"Y\": self.Y[idx],\n",
        "            \"T\": self.T[idx],\n",
        "            \"is_test\": self.is_test[idx],\n",
        "            \"meta\": self.meta[idx],  # (mu, sigma)\n",
        "        }\n"
      ],
      "metadata": {
        "id": "YBvO6FbW-ezJ"
      },
      "execution_count": 16,
      "outputs": []
    },
    {
      "cell_type": "code",
      "source": [
        "dataset = OptionDataset(combined_data_dict, spot_history=30, train_val_cut=int(239*TEST_SIZE), burnin=PARAMS[\"bs_call\"][\"BURNIN_WINDOW\"])\n",
        "\n",
        "# Example of a batch item\n",
        "sample = dataset[0]\n",
        "print(sample[\"X\"].shape, sample[\"Y\"].shape, sample[\"is_test\"], sample[\"meta\"])"
      ],
      "metadata": {
        "colab": {
          "base_uri": "https://localhost:8080/"
        },
        "id": "v2wax1nh-fRw",
        "outputId": "99c134e0-d9c9-476f-8f30-492561abcf5e"
      },
      "execution_count": 40,
      "outputs": [
        {
          "output_type": "stream",
          "name": "stdout",
          "text": [
            "torch.Size([280]) torch.Size([10]) tensor(False) tensor([0.0500, 0.1000])\n"
          ]
        }
      ]
    },
    {
      "cell_type": "code",
      "source": [
        "280 == PARAMS[\"bs_call\"][\"K_GRID_SIZE\"]*PARAMS[\"bs_call\"][\"M\"] + 30"
      ],
      "metadata": {
        "colab": {
          "base_uri": "https://localhost:8080/"
        },
        "id": "gAcWpoDs-fUm",
        "outputId": "f4688378-0476-4353-b7f3-7761053c23df"
      },
      "execution_count": 41,
      "outputs": [
        {
          "output_type": "execute_result",
          "data": {
            "text/plain": [
              "True"
            ]
          },
          "metadata": {},
          "execution_count": 41
        }
      ]
    },
    {
      "cell_type": "code",
      "source": [
        "len(dataset)"
      ],
      "metadata": {
        "colab": {
          "base_uri": "https://localhost:8080/"
        },
        "id": "ov4-F8la-fXt",
        "outputId": "0a37a037-1c81-40d4-9d6f-fd61eaf1eb76"
      },
      "execution_count": 42,
      "outputs": [
        {
          "output_type": "execute_result",
          "data": {
            "text/plain": [
              "687000"
            ]
          },
          "metadata": {},
          "execution_count": 42
        }
      ]
    },
    {
      "cell_type": "code",
      "source": [
        "combined_data_dict[(0.05,0.1)][\"call_prices\"][\"call_prices\"].shape"
      ],
      "metadata": {
        "colab": {
          "base_uri": "https://localhost:8080/"
        },
        "id": "PrstwojAEvU7",
        "outputId": "d83821f0-b82f-481b-9aac-0a4f4d5eda05"
      },
      "execution_count": 43,
      "outputs": [
        {
          "output_type": "execute_result",
          "data": {
            "text/plain": [
              "(239, 30, 25, 10)"
            ]
          },
          "metadata": {},
          "execution_count": 43
        }
      ]
    },
    {
      "cell_type": "code",
      "source": [
        "len(combined_data_dict)*239*30"
      ],
      "metadata": {
        "colab": {
          "base_uri": "https://localhost:8080/"
        },
        "id": "6ofme44T-fa_",
        "outputId": "e7670f32-c8f4-49d8-d220-9a609df6247d"
      },
      "execution_count": 44,
      "outputs": [
        {
          "output_type": "execute_result",
          "data": {
            "text/plain": [
              "717000"
            ]
          },
          "metadata": {},
          "execution_count": 44
        }
      ]
    },
    {
      "cell_type": "markdown",
      "source": [
        "# 2. Create Train/Val/Test"
      ],
      "metadata": {
        "id": "59EWVkeIF6da"
      }
    },
    {
      "cell_type": "code",
      "source": [
        "# 1. Split into train_val and test based on is_test flag\n",
        "is_test_mask = dataset.is_test\n",
        "test_indices = torch.where(is_test_mask)[0]\n",
        "trainval_indices = torch.where(~is_test_mask)[0]\n",
        "len(trainval_indices), len(test_indices)"
      ],
      "metadata": {
        "colab": {
          "base_uri": "https://localhost:8080/"
        },
        "id": "5agCSirM-feN",
        "outputId": "d554bd13-8303-47f1-cfdc-7fda10d65456"
      },
      "execution_count": 45,
      "outputs": [
        {
          "output_type": "execute_result",
          "data": {
            "text/plain": [
              "(582000, 105000)"
            ]
          },
          "metadata": {},
          "execution_count": 45
        }
      ]
    },
    {
      "cell_type": "code",
      "source": [
        "# 2. Random 80/20 split from train_val\n",
        "train_indices, val_indices = train_test_split(\n",
        "    trainval_indices.numpy(),\n",
        "    test_size=VAL_SIZE/(1-TEST_SIZE),\n",
        "    shuffle=True,\n",
        "    random_state=SEED\n",
        ")"
      ],
      "metadata": {
        "id": "pvEvQT2m-fhn"
      },
      "execution_count": 46,
      "outputs": []
    },
    {
      "cell_type": "code",
      "source": [
        "np.array([len(train_indices), len(val_indices), len(test_indices)])"
      ],
      "metadata": {
        "colab": {
          "base_uri": "https://localhost:8080/"
        },
        "id": "1GGnqsk4KwwE",
        "outputId": "7d94059a-7162-4454-fc8a-aa05267b85d6"
      },
      "execution_count": 54,
      "outputs": [
        {
          "output_type": "execute_result",
          "data": {
            "text/plain": [
              "array([479294, 102706, 105000])"
            ]
          },
          "metadata": {},
          "execution_count": 54
        }
      ]
    },
    {
      "cell_type": "code",
      "source": [
        "np.array([len(train_indices), len(val_indices), len(test_indices)])/687000"
      ],
      "metadata": {
        "colab": {
          "base_uri": "https://localhost:8080/"
        },
        "id": "MYUnltY9-fk9",
        "outputId": "47537e26-6f5d-48a7-a4e7-bb74e78b180a"
      },
      "execution_count": 48,
      "outputs": [
        {
          "output_type": "execute_result",
          "data": {
            "text/plain": [
              "array([0.6976623 , 0.14949927, 0.15283843])"
            ]
          },
          "metadata": {},
          "execution_count": 48
        }
      ]
    },
    {
      "cell_type": "code",
      "source": [
        "# --- Package all splits ---\n",
        "dataset_splits = {\n",
        "    \"train\": {k: v[train_indices] for k, v in dataset.__dict__.items() if k in [\"X\", \"Y\", \"T\", \"meta\"]},\n",
        "    \"val\":   {k: v[val_indices]   for k, v in dataset.__dict__.items() if k in [\"X\", \"Y\", \"T\", \"meta\"]},\n",
        "    \"test\":  {k: v[test_indices]  for k, v in dataset.__dict__.items() if k in [\"X\", \"Y\", \"T\", \"meta\"]},\n",
        "}"
      ],
      "metadata": {
        "id": "D1yadWdn-foi"
      },
      "execution_count": 49,
      "outputs": []
    },
    {
      "cell_type": "code",
      "source": [
        "min(dataset_splits[\"test\"][\"T\"])"
      ],
      "metadata": {
        "colab": {
          "base_uri": "https://localhost:8080/"
        },
        "id": "g7_X1uZBJ7M8",
        "outputId": "7d8ef829-0d8f-40ca-9dd7-5b318ef35e25"
      },
      "execution_count": 53,
      "outputs": [
        {
          "output_type": "execute_result",
          "data": {
            "text/plain": [
              "tensor(194)"
            ]
          },
          "metadata": {},
          "execution_count": 53
        }
      ]
    },
    {
      "cell_type": "code",
      "source": [
        "# --- Save to Pickle ---\n",
        "with open(f\"{EXP_PATH}/train_test_val_dataste_{VERSION}.pkl\", \"wb\") as f:\n",
        "    pickle.dump(dataset_splits, f)"
      ],
      "metadata": {
        "id": "Ghn5XFp6-fsF"
      },
      "execution_count": 50,
      "outputs": []
    },
    {
      "cell_type": "code",
      "source": [],
      "metadata": {
        "id": "GEe0mgkE-fv3"
      },
      "execution_count": null,
      "outputs": []
    },
    {
      "cell_type": "code",
      "source": [],
      "metadata": {
        "id": "akd_ViFV-fzG"
      },
      "execution_count": null,
      "outputs": []
    }
  ]
}